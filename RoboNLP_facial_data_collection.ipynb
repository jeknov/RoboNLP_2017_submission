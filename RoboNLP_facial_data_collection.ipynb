{
 "cells": [
  {
   "cell_type": "code",
   "execution_count": null,
   "metadata": {
    "collapsed": true,
    "deletable": true,
    "editable": true
   },
   "outputs": [],
   "source": [
    "import httplib\n",
    "import urllib\n",
    "import base64\n",
    "import json\n",
    "import pandas as pd\n",
    "import numpy as np\n",
    "import requests"
   ]
  },
  {
   "cell_type": "code",
   "execution_count": null,
   "metadata": {
    "collapsed": true,
    "deletable": true,
    "editable": true
   },
   "outputs": [],
   "source": [
    "# you have to sign up for an API key, which has some allowances. Check the API documentation for further details:\n",
    "_url = 'https://api.projectoxford.ai/emotion/v1.0/recognizeInVideo'\n",
    "_key = 'PRIMARY KEY' #Here you have to paste your primary key\n",
    "_maxNumRetries = 10"
   ]
  },
  {
   "cell_type": "code",
   "execution_count": null,
   "metadata": {
    "collapsed": false,
    "deletable": true,
    "editable": true
   },
   "outputs": [],
   "source": [
    "# URL direction: I hosted this on my domain\n",
    "\n",
    "urlVideo = 'INSERT VIDEO URL HERE'\n",
    "\n",
    "# Computer Vision parameters\n",
    "paramsPost = { 'outputStyle' : 'perFrame'}\n",
    "\n",
    "headersPost = dict()\n",
    "headersPost['Ocp-Apim-Subscription-Key'] = _key\n",
    "headersPost['Content-Type'] = 'application/json'\n",
    "\n",
    "jsonPost = { 'url': urlVideo }\n",
    "\n",
    "responsePost = requests.request( 'post', _url, json = jsonPost, data = None, headers = headersPost, params = paramsPost )\n",
    "\n",
    "print responsePost.status_code\n",
    "\n",
    "if responsePost.status_code == 202: # everything went well!\n",
    "    videoIDLocation = responsePost.headers['Operation-Location']\n",
    "    print videoIDLocation"
   ]
  },
  {
   "cell_type": "code",
   "execution_count": null,
   "metadata": {
    "collapsed": false,
    "deletable": true,
    "editable": true
   },
   "outputs": [],
   "source": [
    "## Wait a bit, it's processing\n",
    "headersGet = dict()\n",
    "headersGet['Ocp-Apim-Subscription-Key'] = _key\n",
    "\n",
    "jsonGet = {}\n",
    "paramsGet = urllib.urlencode({})\n",
    "\n",
    "getResponse = requests.request( 'get', videoIDLocation, json = jsonGet, data = None, headers = headersGet, params = paramsGet )\n"
   ]
  },
  {
   "cell_type": "code",
   "execution_count": null,
   "metadata": {
    "collapsed": false,
    "deletable": true,
    "editable": true
   },
   "outputs": [],
   "source": [
    "#getResponse"
   ]
  },
  {
   "cell_type": "code",
   "execution_count": null,
   "metadata": {
    "collapsed": false,
    "deletable": true,
    "editable": true
   },
   "outputs": [],
   "source": [
    "#jsonObject['error'] == {u'code': u'RateLimitExceeded', u'message': u'Rate limit is exceeded. Try again later.'}"
   ]
  },
  {
   "cell_type": "code",
   "execution_count": null,
   "metadata": {
    "collapsed": false,
    "deletable": true,
    "editable": true
   },
   "outputs": [],
   "source": [
    "jsonObject"
   ]
  },
  {
   "cell_type": "code",
   "execution_count": null,
   "metadata": {
    "collapsed": false,
    "deletable": true,
    "editable": true,
    "scrolled": true
   },
   "outputs": [],
   "source": [
    "import time\n",
    "\n",
    "while True:\n",
    "    time.sleep(20)\n",
    "    getResponse = requests.request( 'get', videoIDLocation, json = jsonGet, data = None, headers = headersGet, params = paramsGet )\n",
    "    \n",
    "    jsonObject = json.loads(getResponse.text)\n",
    "    #print jsonObject['progress']\n",
    "    \n",
    "    if hasattr(jsonObject, 'message'):\n",
    "        print jsonObject['message']\n",
    "    else:\n",
    "        print jsonObject['progress']\n",
    "                  \n",
    "    if jsonObject['progress'] >= 100.0:\n",
    "        break"
   ]
  },
  {
   "cell_type": "code",
   "execution_count": null,
   "metadata": {
    "collapsed": false,
    "deletable": true,
    "editable": true
   },
   "outputs": [],
   "source": [
    "del(rawData)"
   ]
  },
  {
   "cell_type": "code",
   "execution_count": null,
   "metadata": {
    "collapsed": false,
    "deletable": true,
    "editable": true
   },
   "outputs": [],
   "source": [
    "rawData = json.loads(json.loads(getResponse.text)['processingResult'])"
   ]
  },
  {
   "cell_type": "code",
   "execution_count": null,
   "metadata": {
    "collapsed": false,
    "deletable": true,
    "editable": true
   },
   "outputs": [],
   "source": [
    "timeScale = rawData['timescale']\n",
    "frameRate = rawData['framerate']\n",
    "\n",
    "emotionPerFramePerFace = {}\n",
    "currFrameNum = 0\n",
    "\n",
    "for currFragment in rawData['fragments']:\n",
    "    for currEvent in currFragment['events']:\n",
    "        emotionPerFramePerFace[currFrameNum] = currEvent\n",
    "        currFrameNum += 1"
   ]
  },
  {
   "cell_type": "code",
   "execution_count": null,
   "metadata": {
    "collapsed": false,
    "deletable": true,
    "editable": true
   },
   "outputs": [],
   "source": [
    "with open('rawData.json', 'w') as f:\n",
    "    json.dump(rawData, f)"
   ]
  },
  {
   "cell_type": "code",
   "execution_count": null,
   "metadata": {
    "collapsed": false,
    "deletable": true,
    "editable": true
   },
   "outputs": [],
   "source": [
    "# Data collection\n",
    "person  = []\n",
    "for frame_no, v in emotionPerFramePerFace.copy().items():\n",
    "    for i, minidict in enumerate(v):\n",
    "        for k, v in minidict['scores'].items():\n",
    "            minidict[k] = v\n",
    "            \n",
    "        minidict['frame'] = frame_no\n",
    "        if i == 0:\n",
    "            person.append(minidict)\n",
    "\n",
    "\n",
    "df = pd.DataFrame(person)\n",
    "#del df['scores']\n",
    "\n",
    "# Saving in pd data-frame format:\n",
    "df.to_csv(\"ONE SUBJECT DATA FILE.csv\", index=False)"
   ]
  },
  {
   "cell_type": "code",
   "execution_count": null,
   "metadata": {
    "collapsed": true,
    "deletable": true,
    "editable": true
   },
   "outputs": [],
   "source": []
  }
 ],
 "metadata": {
  "anaconda-cloud": {},
  "kernelspec": {
   "display_name": "Python 2",
   "language": "python",
   "name": "python2"
  },
  "language_info": {
   "codemirror_mode": {
    "name": "ipython",
    "version": 2
   },
   "file_extension": ".py",
   "mimetype": "text/x-python",
   "name": "python",
   "nbconvert_exporter": "python",
   "pygments_lexer": "ipython2",
   "version": "2.7.6"
  }
 },
 "nbformat": 4,
 "nbformat_minor": 0
}
